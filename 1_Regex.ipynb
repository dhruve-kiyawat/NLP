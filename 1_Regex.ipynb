{
  "nbformat": 4,
  "nbformat_minor": 0,
  "metadata": {
    "colab": {
      "provenance": [],
      "authorship_tag": "ABX9TyPfKbvtRO9Xlj/s9hIp0Fda",
      "include_colab_link": true
    },
    "kernelspec": {
      "name": "python3",
      "display_name": "Python 3"
    },
    "language_info": {
      "name": "python"
    }
  },
  "cells": [
    {
      "cell_type": "markdown",
      "metadata": {
        "id": "view-in-github",
        "colab_type": "text"
      },
      "source": [
        "<a href=\"https://colab.research.google.com/github/dhruve-kiyawat/NLP/blob/main/1_Regex.ipynb\" target=\"_parent\"><img src=\"https://colab.research.google.com/assets/colab-badge.svg\" alt=\"Open In Colab\"/></a>"
      ]
    },
    {
      "cell_type": "markdown",
      "source": [
        "A regular expression (shortened as regex, sometimes referred to as rational expression) is a sequence of characters that specifies a match pattern in text.\n",
        "\n",
        "---\n",
        "\n"
      ],
      "metadata": {
        "id": "YGMhJUYTBqVQ"
      }
    },
    {
      "cell_type": "markdown",
      "source": [
        "[Regex 101](https://regex101.com/) is a website, which can be used to create Regualr Expressions for finding expressions in a text.\n"
      ],
      "metadata": {
        "id": "rkYD7Tbep7in"
      }
    },
    {
      "cell_type": "markdown",
      "source": [
        "Regular Expressions can be used for various use cases:-\n",
        "\n",
        "\n",
        "*   Chat Bot\n",
        "*   Information Extraction\n",
        "\n"
      ],
      "metadata": {
        "id": "OqhFHbdD6kVO"
      }
    },
    {
      "cell_type": "code",
      "execution_count": null,
      "metadata": {
        "id": "E0oQOSjxS8Ui"
      },
      "outputs": [],
      "source": [
        "import re"
      ]
    },
    {
      "cell_type": "markdown",
      "source": [
        "Extracting Number and Email from the chat"
      ],
      "metadata": {
        "id": "7tShQuSqxsFI"
      }
    },
    {
      "cell_type": "code",
      "source": [
        "chat1 = 'you ask lot of questions 😠  1235678912, abc@xyz.com'\n",
        "chat2 = 'here it is: (123)-567-8912, abc@xyz.com'\n",
        "chat3 = 'yes, phone: 1235678912 email: abc@xyz.com'"
      ],
      "metadata": {
        "id": "2Exp83VIwL3L"
      },
      "execution_count": null,
      "outputs": []
    },
    {
      "cell_type": "code",
      "source": [
        "number_pattern = \"\\d{10}|\\(\\d{3}\\)-\\d{3}-\\d{4}\"\n",
        "re.findall(number_pattern, chat1+chat2+chat3)"
      ],
      "metadata": {
        "colab": {
          "base_uri": "https://localhost:8080/"
        },
        "id": "qtwuUKqewQOR",
        "outputId": "2c598a0a-3b36-45d3-ae3b-0a5f5fc3e232"
      },
      "execution_count": null,
      "outputs": [
        {
          "output_type": "execute_result",
          "data": {
            "text/plain": [
              "['1235678912', '(123)-567-8912', '1235678912']"
            ]
          },
          "metadata": {},
          "execution_count": 3
        }
      ]
    },
    {
      "cell_type": "code",
      "source": [
        "email_pattern = \"[a-zA-Z0-9_]*@[a-zA-Z0-9]*\\.[a-zA-Z]\"\n",
        "re.findall(email_pattern, chat1+chat2+chat3)"
      ],
      "metadata": {
        "colab": {
          "base_uri": "https://localhost:8080/"
        },
        "id": "T4vY6fmQw8JS",
        "outputId": "e67b3393-ccc5-40c7-cf07-6e85856628ca"
      },
      "execution_count": null,
      "outputs": [
        {
          "output_type": "execute_result",
          "data": {
            "text/plain": [
              "['abc@xyz.c', 'abc@xyz.c', 'abc@xyz.c']"
            ]
          },
          "metadata": {},
          "execution_count": 4
        }
      ]
    },
    {
      "cell_type": "markdown",
      "source": [
        "Extracting Order Number from the chat"
      ],
      "metadata": {
        "id": "Ug-3cgwYx13U"
      }
    },
    {
      "cell_type": "code",
      "source": [
        "chat1='Hello, I am having an issue with my order # 412889912'\n",
        "chat2='I have a problem with my order number 412889912'\n",
        "chat3='My order 412889912 is having an issue, I was charged 300$ when online it says 280$'\n",
        "order_pattern = \"order[^\\d]*([0-9]+)\"\n",
        "re.findall(order_pattern, chat1+chat2+chat3)"
      ],
      "metadata": {
        "colab": {
          "base_uri": "https://localhost:8080/"
        },
        "id": "Er2LNbGyxSia",
        "outputId": "3a75a1b0-b9c5-4d0e-fefb-f99a72e8d46c"
      },
      "execution_count": null,
      "outputs": [
        {
          "output_type": "execute_result",
          "data": {
            "text/plain": [
              "['412889912', '412889912', '412889912']"
            ]
          },
          "metadata": {},
          "execution_count": 5
        }
      ]
    },
    {
      "cell_type": "markdown",
      "source": [
        "1. Extract all twitter handles from following text. Twitter handle is the text that appears after https://twitter.com/ and is a single word. Also it contains only alpha numeric characters i.e. A-Z a-z , o to 9 and underscore _"
      ],
      "metadata": {
        "id": "4zSv8I2E81Rf"
      }
    },
    {
      "cell_type": "code",
      "source": [
        "text = '''\n",
        "Follow our leader Elon musk on twitter here: https://twitter.com/elonmusk, more information\n",
        "on Tesla's products can be found at https://www.tesla.com/. Also here are leading influencers\n",
        "for tesla related news,\n",
        "https://twitter.com/teslarati\n",
        "https://twitter.com/dummy_tesla\n",
        "https://twitter.com/dummy_2_tesla\n",
        "'''\n",
        "\n",
        "twitter_pattern = \"https:\\/\\/twitter\\.com\\/([a-zA-Z0-9_]+)\"\n",
        "re.findall(twitter_pattern, text)"
      ],
      "metadata": {
        "colab": {
          "base_uri": "https://localhost:8080/"
        },
        "id": "j8__udGz82Eu",
        "outputId": "75f22ef6-acb1-424a-e2b2-d9c146d0590e"
      },
      "execution_count": null,
      "outputs": [
        {
          "output_type": "execute_result",
          "data": {
            "text/plain": [
              "['elonmusk', 'teslarati', 'dummy_tesla', 'dummy_2_tesla']"
            ]
          },
          "metadata": {},
          "execution_count": 6
        }
      ]
    },
    {
      "cell_type": "markdown",
      "source": [
        "2. Extract Concentration Risk Types. It will be a text that appears after \"Concentration Risk:\", In below example, your regex should extract these two strings"
      ],
      "metadata": {
        "id": "GAuAXk3_9-FD"
      }
    },
    {
      "cell_type": "code",
      "source": [
        "text = '''\n",
        "Concentration of Risk: Credit Risk\n",
        "Financial instruments that potentially subject us to a concentration of credit risk consist of cash, cash equivalents, marketable securities,\n",
        "restricted cash, accounts receivable, convertible note hedges, and interest rate swaps. Our cash balances are primarily invested in money market funds\n",
        "or on deposit at high credit quality financial institutions in the U.S. These deposits are typically in excess of insured limits. As of September 30, 2021\n",
        "and December 31, 2020, no entity represented 10% or more of our total accounts receivable balance. The risk of concentration for our convertible note\n",
        "hedges and interest rate swaps is mitigated by transacting with several highly-rated multinational banks.\n",
        "Concentration of Risk: Supply Risk\n",
        "We are dependent on our suppliers, including single source suppliers, and the inability of these suppliers to deliver necessary components of our\n",
        "products in a timely manner at prices, quality levels and volumes acceptable to us, or our inability to efficiently manage these components from these\n",
        "suppliers, could have a material adverse effect on our business, prospects, financial condition and operating results.\n",
        "'''\n",
        "risk_pattern = \"Concentration of Risk: (.*)\"\n",
        "re.findall(risk_pattern, text)"
      ],
      "metadata": {
        "colab": {
          "base_uri": "https://localhost:8080/"
        },
        "id": "6P2nkW8o992q",
        "outputId": "43ab3b52-4df6-4179-ecb0-ffcaf98c1a78"
      },
      "execution_count": null,
      "outputs": [
        {
          "output_type": "execute_result",
          "data": {
            "text/plain": [
              "['Credit Risk', 'Supply Risk']"
            ]
          },
          "metadata": {},
          "execution_count": 7
        }
      ]
    },
    {
      "cell_type": "markdown",
      "source": [
        "3. Companies in europe reports their financial numbers of semi annual basis and you can have a document like this. To exatract quarterly and semin annual period."
      ],
      "metadata": {
        "id": "20e_cCTu_EXz"
      }
    },
    {
      "cell_type": "code",
      "source": [
        "from os import read\n",
        "text =  '''\n",
        "Tesla's gross cost of operating lease vehicles in FY2021 Q1 was $4.85 billion.\n",
        "BMW's gross cost of operating vehicles in FY2021 S1 was $8 billion.\n",
        "'''\n",
        "financial_pattern = \"FY(\\d{4} (?:Q[1-4]|S[1-2]))\"\n",
        "re.findall(financial_pattern, text)"
      ],
      "metadata": {
        "colab": {
          "base_uri": "https://localhost:8080/"
        },
        "id": "Im-9whl190lo",
        "outputId": "375b8e70-121a-4d5f-cabe-257aa239cd01"
      },
      "execution_count": null,
      "outputs": [
        {
          "output_type": "execute_result",
          "data": {
            "text/plain": [
              "['2021 Q1', '2021 S1']"
            ]
          },
          "metadata": {},
          "execution_count": 8
        }
      ]
    }
  ]
}